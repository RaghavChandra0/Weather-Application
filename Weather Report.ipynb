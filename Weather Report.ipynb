{
 "cells": [
  {
   "cell_type": "markdown",
   "metadata": {},
   "source": [
    "<h1><center>Raghav Chandra</center>\n",
    "<h1><center>18EARCS300</center>"
   ]
  },
  {
   "cell_type": "code",
   "execution_count": 1,
   "metadata": {},
   "outputs": [],
   "source": [
    "import tkinter as tk\n",
    "from tkinter import font\n",
    "import PIL.Image\n",
    "import PIL.ImageTk\n",
    "import requests\n",
    "\n",
    "API_KEY = '6a681cac28a4a5b1626f6986f7727b06' \n",
    "\n",
    "def test_function(entry):\n",
    "    print(\"button clicked\", entry)\n",
    "\n",
    "def format_response(weather):\n",
    "    try:\n",
    "        name = weather['name']\n",
    "        description = weather['weather'][0]['description']\n",
    "        temperature = weather['main']['temp']\n",
    "        final_str = 'City: %s \\nConditions: %s \\nTemperature (C): %s' % (name, description, (temperature-32)*5//9)\n",
    "    except:\n",
    "        final_str = 'There was a problem retrieving that information.'\n",
    "\n",
    "    return final_str\n",
    "\n",
    "def get_weather(city):\n",
    "    weather_key = API_KEY\n",
    "    url = 'https://api.openweathermap.org/data/2.5/weather'\n",
    "    params = {'APPID': weather_key, 'q': city, 'units': 'imperial'}\n",
    "    response = requests.get(url, params)\n",
    "    weather = response.json()\n",
    "    format_response(weather)\n",
    "\n",
    "    label['text'] = format_response(weather)\n",
    "\n",
    "\n",
    "HEIGHT = 500\n",
    "WIDTH = 600\n",
    "\n",
    "root = tk.Tk()\n",
    "root.title('Weather Report Application')\n",
    "\n",
    "canvas = tk.Canvas(root, height=HEIGHT, width=WIDTH)\n",
    "\n",
    "im = PIL.Image.open(\"sky.jpg\")\n",
    "photo = PIL.ImageTk.PhotoImage(im)\n",
    "background_label = tk.Label(root, image=photo)\n",
    "background_label.place(relx=0, rely=0, relwidth=1, relheight=1)\n",
    "\n",
    "canvas.pack()\n",
    "\n",
    "frame = tk.Frame(root, bg=\"#fadf2d\", bd=5)\n",
    "frame.place(relx=0.5, rely=0.1, relwidth=0.75, relheight=0.1, anchor='n')\n",
    "\n",
    "entry = tk.Entry(frame, font=('Courier', 18))\n",
    "entry.place(relx=0, rely=0, relwidth=0.65, relheight=1)\n",
    "\n",
    "button = tk.Button(frame, text=\"Get Report\", bg=\"gray\", fg=\"white\", font=('Courier', 12), command=lambda: get_weather(entry.get()))\n",
    "button.place(relx=0.7, rely=0, relwidth=0.3, relheight=1)\n",
    "\n",
    "lower_frame = tk.Frame(root, bg='#fadf2d', bd=10)\n",
    "lower_frame.place(relx=0.5, rely=0.25, relwidth=0.75, relheight=0.6, anchor='n')\n",
    "\n",
    "label = tk.Label(lower_frame, font=('Courier', 18))\n",
    "label.place(relx=0, rely=0, relwidth=1, relheight=1)\n",
    "\n",
    "root.mainloop()"
   ]
  },
  {
   "cell_type": "markdown",
   "metadata": {},
   "source": [
    "## Output"
   ]
  },
  {
   "cell_type": "markdown",
   "metadata": {},
   "source": [
    "![](WPO.jpg)"
   ]
  },
  {
   "cell_type": "code",
   "execution_count": null,
   "metadata": {},
   "outputs": [],
   "source": []
  }
 ],
 "metadata": {
  "kernelspec": {
   "display_name": "Python 3",
   "language": "python",
   "name": "python3"
  },
  "language_info": {
   "codemirror_mode": {
    "name": "ipython",
    "version": 3
   },
   "file_extension": ".py",
   "mimetype": "text/x-python",
   "name": "python",
   "nbconvert_exporter": "python",
   "pygments_lexer": "ipython3",
   "version": "3.7.6"
  }
 },
 "nbformat": 4,
 "nbformat_minor": 4
}
